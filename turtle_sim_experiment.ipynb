{
  "cells": [
    {
      "cell_type": "markdown",
      "metadata": {
        "id": "view-in-github",
        "colab_type": "text"
      },
      "source": [
        "<a href=\"https://colab.research.google.com/github/kwazinhlaka/2022-pydata-global-seaborn/blob/main/turtle_sim_experiment.ipynb\" target=\"_parent\"><img src=\"https://colab.research.google.com/assets/colab-badge.svg\" alt=\"Open In Colab\"/></a>"
      ]
    },
    {
      "cell_type": "markdown",
      "metadata": {
        "id": "MpkYHwCqk7W-"
      },
      "source": [
        "# 🐢 Turtle Sim Experiment\n",
        "\n",
        "Experimenting in `python` with `mujoco` to make virtual `turtle-bots` that can be played with by anyone with access to a browser and internet connection. The goal was to be able to write code in-browser and then see a rendered video of your robot doing the tasks.\n",
        "\n",
        "Presented at PyconZA 2023 by :David Campey in the session [turtle-bots: simulated beginnings](https://za.pycon.org/talks/41-turtle-bots-simulated-beginnings/).\n",
        "\n",
        "This experiment uses [**MuJoCo** physics](https://github.com/google-deepmind/mujoco#readme), using their excellent native Python bindings.\n",
        "\n",
        "Note: **A Colab runtime with GPU acceleration is required.** If you're using a CPU-only runtime, you can switch using the menu \"Runtime > Change runtime type\"."
      ]
    },
    {
      "cell_type": "markdown",
      "metadata": {
        "id": "xBSdkbmGN2K-"
      },
      "source": [
        "### Sources & Copyright"
      ]
    },
    {
      "cell_type": "markdown",
      "metadata": {
        "id": "_UbO9uhtBSX5"
      },
      "source": [
        "This experiment started based on the excellent introductory [Google DeepMind mujoco tutorial](https://github.com/google-deepmind/mujoco/blob/main/python/tutorial.ipynb) tutorial, start there if you want a deeper understanding of using mujoco in python <a href=\"https://colab.research.google.com/github/google-deepmind/mujoco/blob/main/python/tutorial.ipynb\"><img src=\"https://colab.research.google.com/assets/colab-badge.svg\" width=\"140\" align=\"center\"/></a>.\n",
        "\n",
        "The differential drive is based on\n",
        "\n",
        "> <p><small><small>Portions copyright 2022 DeepMind Technologies Limited, 2023 Coder:LevelUp NPC.</small></p>\n",
        "> <p><small><small>Licensed under the Apache License, Version 2.0 (the \"License\"); you may not use this file except in compliance with the License. You may obtain a copy of the License at <a href=\"http://www.apache.org/licenses/LICENSE-2.0\">http://www.apache.org/licenses/LICENSE-2.0</a>.</small></small></p>\n",
        "> <p><small><small>Unless required by applicable law or agreed to in writing, software distributed under the License is distributed on an \"AS IS\" BASIS, WITHOUT WARRANTIES OR CONDITIONS OF ANY KIND, either express or implied. See the License for the specific language governing permissions and limitations under the License.</small></small></p>"
      ]
    },
    {
      "cell_type": "markdown",
      "metadata": {
        "id": "YvyGCsgSCxHQ"
      },
      "source": [
        "# Install MuJoCo"
      ]
    },
    {
      "cell_type": "code",
      "execution_count": null,
      "metadata": {
        "id": "Xqo7pyX-n72M",
        "cellView": "form"
      },
      "outputs": [],
      "source": [
        "!pip install mujoco\n",
        "\n",
        "\n",
        "#@title Import packages for plotting and creating graphics\n",
        "import time\n",
        "import itertools\n",
        "import numpy as np\n",
        "from typing import Callable, NamedTuple, Optional, Union, List\n",
        "\n",
        "# Graphics and plotting.\n",
        "print('Installing mediapy:')\n",
        "!command -v ffmpeg >/dev/null || (apt update && apt install -y ffmpeg)\n",
        "!pip install -q mediapy\n",
        "import mediapy as media\n",
        "import matplotlib.pyplot as plt\n",
        "\n",
        "# More legible printing from numpy.\n",
        "np.set_printoptions(precision=3, suppress=True, linewidth=100)"
      ]
    },
    {
      "cell_type": "code",
      "execution_count": null,
      "metadata": {
        "cellView": "form",
        "id": "IbZxYDxzoz5R"
      },
      "outputs": [],
      "source": [
        "#@title Check if installation was successful\n",
        "\n",
        "from google.colab import files\n",
        "\n",
        "import distutils.util\n",
        "import os\n",
        "import subprocess\n",
        "if subprocess.run('nvidia-smi').returncode:\n",
        "  raise RuntimeError(\n",
        "      'Cannot communicate with GPU. '\n",
        "      'Make sure you are using a GPU Colab runtime. '\n",
        "      'Go to the Runtime menu and select Choose runtime type.')\n",
        "\n",
        "# Add an ICD config so that glvnd can pick up the Nvidia EGL driver.\n",
        "# This is usually installed as part of an Nvidia driver package, but the Colab\n",
        "# kernel doesn't install its driver via APT, and as a result the ICD is missing.\n",
        "# (https://github.com/NVIDIA/libglvnd/blob/master/src/EGL/icd_enumeration.md)\n",
        "NVIDIA_ICD_CONFIG_PATH = '/usr/share/glvnd/egl_vendor.d/10_nvidia.json'\n",
        "if not os.path.exists(NVIDIA_ICD_CONFIG_PATH):\n",
        "  with open(NVIDIA_ICD_CONFIG_PATH, 'w') as f:\n",
        "    f.write(\"\"\"{\n",
        "    \"file_format_version\" : \"1.0.0\",\n",
        "    \"ICD\" : {\n",
        "        \"library_path\" : \"libEGL_nvidia.so.0\"\n",
        "    }\n",
        "}\n",
        "\"\"\")\n",
        "\n",
        "# Configure MuJoCo to use the EGL rendering backend (requires GPU)\n",
        "print('Setting environment variable to use GPU rendering:')\n",
        "%env MUJOCO_GL=egl\n",
        "\n",
        "try:\n",
        "  print('Checking that the installation succeeded:')\n",
        "  import mujoco\n",
        "  mujoco.MjModel.from_xml_string('<mujoco/>')\n",
        "except Exception as e:\n",
        "  raise e from RuntimeError(\n",
        "      'Something went wrong during installation. Check the shell output above '\n",
        "      'for more information.\\n'\n",
        "      'If using a hosted Colab runtime, make sure you enable GPU acceleration '\n",
        "      'by going to the Runtime menu and selecting \"Choose runtime type\".')\n",
        "\n",
        "print('Installation successful.')"
      ]
    },
    {
      "cell_type": "markdown",
      "metadata": {
        "id": "t0CF6Gvkt_Cw"
      },
      "source": [
        "# MuJoCo basics\n",
        "\n",
        "We begin by defining and creating a simple model, a first approximation of a turtle:"
      ]
    },
    {
      "cell_type": "code",
      "execution_count": null,
      "metadata": {
        "id": "3KJVqak6xdJa"
      },
      "outputs": [],
      "source": [
        "xml = \"\"\"\n",
        "<mujoco>\n",
        "  <worldbody>\n",
        "    <geom name=\"body\" type=\"ellipsoid\" size=\".2 .1 .1\" rgba=\"0 1 1 1\"/>\n",
        "    <geom name=\"shell\" pos=\".2 .2 .2\" size=\".1\" rgba=\"0 1 0 1\"/>\n",
        "  </worldbody>\n",
        "</mujoco>\n",
        "\"\"\"\n",
        "model = mujoco.MjModel.from_xml_string(xml)"
      ]
    },
    {
      "cell_type": "markdown",
      "metadata": {
        "id": "slhf39lGxvDI"
      },
      "source": [
        "The `xml` string is written in MuJoCo's [MJCF](http://www.mujoco.org/book/modeling.html), which is an [XML](https://en.wikipedia.org/wiki/XML#Key_terminology)-based modeling language.\n",
        "\n",
        "MuJoCo is first and foremost a physics sim, so we have here a spherical approximation of a turtle, but add an ellipsoid body so the head can poke out and give it a \"front\"."
      ]
    },
    {
      "cell_type": "markdown",
      "metadata": {
        "id": "qkfLK3h2zrqr"
      },
      "source": [
        "Calling the named accessor without specifying a property will tell us what all the valid properties are:"
      ]
    },
    {
      "cell_type": "code",
      "execution_count": null,
      "metadata": {
        "id": "9X95TlWnyEEw"
      },
      "outputs": [],
      "source": [
        "model.geom('shell')"
      ]
    },
    {
      "cell_type": "markdown",
      "metadata": {
        "id": "3RIizubaL_du"
      },
      "source": [
        "And it lets us do things in pythonic ways, lik the `id` and `name` attributes are useful in Python comprehensions:"
      ]
    },
    {
      "cell_type": "code",
      "execution_count": null,
      "metadata": {
        "id": "m3MtIE5F1K7s"
      },
      "outputs": [],
      "source": [
        "[model.geom(i).name for i in range(model.ngeom)]"
      ]
    },
    {
      "cell_type": "markdown",
      "metadata": {
        "id": "eU7uWNsTwmcZ"
      },
      "source": [
        "# Let's see the turtles!!!\n",
        "\n",
        "\n",
        "In order to render we'll need to instantiate a `Renderer` object and call its `render` method.\n",
        "\n",
        "We'll also reload our model to make the colab's sections independent."
      ]
    },
    {
      "cell_type": "code",
      "execution_count": null,
      "metadata": {
        "id": "xK3c0-UDxMrN"
      },
      "outputs": [],
      "source": [
        "xml = \"\"\"\n",
        "<mujoco>\n",
        "  <worldbody>\n",
        "    <geom name=\"body\" type=\"ellipsoid\" size=\".2 .1 .1\" rgba=\"0 1 1 1\"/>\n",
        "    <geom name=\"shell\" pos=\".2 .2 .2\" size=\".1\" rgba=\"0 1 0 1\"/>\n",
        "  </worldbody>\n",
        "</mujoco>\n",
        "\"\"\"\n",
        "# Make model and data\n",
        "model = mujoco.MjModel.from_xml_string(xml)\n",
        "data = mujoco.MjData(model)\n",
        "\n",
        "# Make renderer, update scene, render and show the pixels\n",
        "renderer = mujoco.Renderer(model)\n",
        "mujoco.mj_forward(model, data)\n",
        "renderer.update_scene(data)\n",
        "\n",
        "media.show_image(renderer.render())"
      ]
    },
    {
      "cell_type": "markdown",
      "metadata": {
        "id": "6oDW1dOUifw6"
      },
      "source": [
        "This worked, but this image is a bit dark. Also, it seems the shell isn't quite on the body.\n",
        "\n",
        "Let's fix the shell, add a light and re-render."
      ]
    },
    {
      "cell_type": "code",
      "execution_count": null,
      "metadata": {
        "id": "iqzJj2NIr_2V"
      },
      "outputs": [],
      "source": [
        "xml = \"\"\"\n",
        "<mujoco>\n",
        "  <worldbody>\n",
        "    <light name=\"top\" pos=\"0 0 1\"/>\n",
        "    <geom name=\"body\" type=\"ellipsoid\" size=\".2 .1 .1\" rgba=\"0 1 1 1\"/>\n",
        "    <geom name=\"shell\" pos=\"-0.06 .0 .0\" size=\".18\" rgba=\"0 1 0 1\"/>\n",
        "  </worldbody>\n",
        "</mujoco>\n",
        "\"\"\"\n",
        "model = mujoco.MjModel.from_xml_string(xml)\n",
        "data = mujoco.MjData(model)\n",
        "renderer = mujoco.Renderer(model)\n",
        "\n",
        "mujoco.mj_forward(model, data)\n",
        "renderer.update_scene(data)\n",
        "\n",
        "media.show_image(renderer.render())"
      ]
    },
    {
      "cell_type": "markdown",
      "metadata": {
        "id": "HS4K38Eirww9"
      },
      "source": [
        "Much better!\n",
        "\n",
        "> \"It's so cute, now we need to give it fins...\" -- Lily\n",
        "\n",
        "> \"Maybe later\" :) -- Dad\n",
        "\n"
      ]
    },
    {
      "cell_type": "markdown",
      "metadata": {
        "id": "-P95E-QHizQq"
      },
      "source": [
        "# Simulation\n",
        "\n",
        "Now let's simulate and make a video. We'll use MuJoCo's main high level function `mj_step`, which steps the state $x_{t+h} = f(x_t)$.\n"
      ]
    },
    {
      "cell_type": "code",
      "execution_count": null,
      "metadata": {
        "id": "NdVnHOYisiKl"
      },
      "outputs": [],
      "source": [
        "duration = 3.8  # (seconds)\n",
        "framerate = 60  # (Hz)\n",
        "\n",
        "# Simulate and display video.\n",
        "frames = []\n",
        "mujoco.mj_resetData(model, data)  # Reset state and time.\n",
        "while data.time < duration:\n",
        "  mujoco.mj_step(model, data)\n",
        "  if len(frames) < data.time * framerate:\n",
        "    renderer.update_scene(data)\n",
        "    pixels = renderer.render()\n",
        "    frames.append(pixels)\n",
        "media.show_video(frames, fps=framerate)"
      ]
    },
    {
      "cell_type": "markdown",
      "metadata": {
        "id": "tYN4sL9RnsCU"
      },
      "source": [
        "Hmmm, the video is playing, but nothing is moving, why is that?\n",
        "\n",
        "This is because this model has no [degrees of freedom](https://www.google.com/url?sa=D&q=https%3A%2F%2Fen.wikipedia.org%2Fwiki%2FDegrees_of_freedom_(mechanics)) (DoFs). The things that move (and which have inertia) are called *bodies*.\n",
        "\n",
        "We add DoFs by adding *joints* to bodies, specifying how they can move with respect to their parents, a [freejoint](https://mujoco.readthedocs.io/en/stable/XMLreference.html#body-freejoint) will give our turtle the freedom she desires."
      ]
    },
    {
      "cell_type": "markdown",
      "metadata": {
        "id": "FITYfGyy3XPL"
      },
      "source": [
        "# Free Turtley!\n",
        "\n",
        "Let's go back to our turtle and give it freedom to move:\n",
        "\n",
        "> \"oh is it going to roam around on its own?\"\n",
        "\n",
        "no not yet, but that's a great idea!\n",
        "\n",
        "> \"can we at least make it look a bit more like a turtle?\"\n",
        "\n",
        "Okay, lets tweak a little bit..."
      ]
    },
    {
      "cell_type": "markdown",
      "source": [
        "*time passes* ..."
      ],
      "metadata": {
        "id": "Ef0cDXCP-0MO"
      }
    },
    {
      "cell_type": "markdown",
      "source": [
        "*more time passes* ..."
      ],
      "metadata": {
        "id": "YZ6R9sNV-z98"
      }
    },
    {
      "cell_type": "code",
      "execution_count": null,
      "metadata": {
        "id": "2n1VNVv_FkbB"
      },
      "outputs": [],
      "source": [
        "n_frames = 200\n",
        "height = 240\n",
        "width = 320\n",
        "frames = []\n",
        "renderer = mujoco.Renderer(model, height, width)\n",
        "\n",
        "free_body_MJCF = \"\"\"\n",
        "<mujoco>\n",
        "  <asset>\n",
        "    <texture name=\"grid\" type=\"2d\" builtin=\"checker\" rgb1=\".1 .2 .3\"\n",
        "    rgb2=\".2 .3 .4\" width=\"300\" height=\"300\" mark=\"edge\" markrgb=\".2 .3 .4\"/>\n",
        "    <material name=\"grid\" texture=\"grid\" texrepeat=\"2 2\" texuniform=\"true\"\n",
        "    reflectance=\".2\"/>\n",
        "  </asset>\n",
        "\n",
        "  <worldbody>\n",
        "    <light pos=\"0 0 1\" mode=\"trackcom\"/>\n",
        "    <geom name=\"ground\" type=\"plane\" pos=\"0 0 -.5\" size=\"2 2 .1\" material=\"grid\" solimp=\".99 .99 .01\" solref=\".001 1\"/>\n",
        "    <body name=\"box_and_sphere\" pos=\"0 0 0\">\n",
        "      <freejoint/>\n",
        "      <geom name=\"body\" type=\"ellipsoid\" size=\".2 .1 .1\" rgba=\"0 1 0.5 1\"/>\n",
        "      <geom name=\"shell\" type=\"ellipsoid\" pos=\"-0.06 .0 .02\" size=\".18 .14 .14\" rgba=\"0.5 1 0 1\"/>\n",
        "      <camera name=\"fixed\" pos=\"0 -.6 .3\" xyaxes=\"1 0 0 0 1 2\"/>\n",
        "      <camera name=\"track\" pos=\"0 -.6 .3\" xyaxes=\"1 0 0 0 1 2\" mode=\"track\"/>\n",
        "    </body>\n",
        "  </worldbody>\n",
        "</mujoco>\n",
        "\"\"\"\n",
        "model = mujoco.MjModel.from_xml_string(free_body_MJCF)\n",
        "renderer = mujoco.Renderer(model, 400, 600)\n",
        "data = mujoco.MjData(model)\n",
        "mujoco.mj_forward(model, data)\n",
        "renderer.update_scene(data, \"fixed\")\n",
        "\n",
        "for i in range(n_frames):\n",
        "  while data.time < i/120.0: #1/4x real time\n",
        "    mujoco.mj_step(model, data)\n",
        "  renderer.update_scene(data, \"track\")\n",
        "  frame = renderer.render()\n",
        "  frames.append(frame)\n",
        "media.show_video(frames, fps=framerate)\n"
      ]
    },
    {
      "cell_type": "markdown",
      "metadata": {
        "id": "Z2amdQCn8REu"
      },
      "source": [
        "Let's test rendering this body rolling on the floor, in slow-motion, with a random velocity while visualizing contact points and forces.\n",
        "\n",
        "> Why?\n",
        "\n",
        "Because we can."
      ]
    },
    {
      "cell_type": "code",
      "execution_count": null,
      "metadata": {
        "id": "HlRhFs_d3WLP"
      },
      "outputs": [],
      "source": [
        "n_frames = 200\n",
        "height = 240\n",
        "width = 320\n",
        "frames = []\n",
        "renderer = mujoco.Renderer(model, height, width)\n",
        "\n",
        "# visualize contact frames and forces, make body transparent\n",
        "options = mujoco.MjvOption()\n",
        "mujoco.mjv_defaultOption(options)\n",
        "options.flags[mujoco.mjtVisFlag.mjVIS_CONTACTPOINT] = True\n",
        "options.flags[mujoco.mjtVisFlag.mjVIS_CONTACTFORCE] = True\n",
        "options.flags[mujoco.mjtVisFlag.mjVIS_TRANSPARENT] = True\n",
        "\n",
        "# tweak scales of contact visualization elements\n",
        "model.vis.scale.contactwidth = 0.1\n",
        "model.vis.scale.contactheight = 0.03\n",
        "model.vis.scale.forcewidth = 0.05\n",
        "model.vis.map.force = 0.3\n",
        "\n",
        "# random initial rotational velocity:\n",
        "mujoco.mj_resetData(model, data)\n",
        "data.qvel[3:6] = 5*np.random.randn(3)\n",
        "\n",
        "# simulate and render\n",
        "for i in range(n_frames):\n",
        "  while data.time < i/120.0: #1/4x real time\n",
        "    mujoco.mj_step(model, data)\n",
        "  renderer.update_scene(data, \"track\", options)\n",
        "  frame = renderer.render()\n",
        "  frames.append(frame)\n",
        "\n",
        "# show video\n",
        "media.show_video(frames, fps=30)"
      ]
    },
    {
      "cell_type": "markdown",
      "source": [
        "Okay now let's give it some fins for stability.\n",
        "\n",
        "> Yay\n",
        "\n",
        "> ... wait is this a turtle or a tortoise?\n",
        "\n",
        "Umm, let's call it a turtle for now, if you're curious, check out [Turtle vs tortoise: what's the difference?](https://www.discoverwildlife.com/animal-facts/reptiles/turtle-vs-tortoise)\n",
        "\n",
        "For now, back to the finny-leg-things, adding ellipsoids and using `euler` to rotate them."
      ],
      "metadata": {
        "id": "dKVbYZ6QQZAz"
      }
    },
    {
      "cell_type": "code",
      "source": [
        "\n",
        "free_body_MJCF = \"\"\"\n",
        "<mujoco>\n",
        "  <asset>\n",
        "    <texture name=\"grid\" type=\"2d\" builtin=\"checker\" rgb1=\".1 .2 .3\"\n",
        "    rgb2=\".2 .3 .4\" width=\"300\" height=\"300\" mark=\"edge\" markrgb=\".2 .3 .4\"/>\n",
        "    <material name=\"grid\" texture=\"grid\" texrepeat=\"2 2\" texuniform=\"true\"\n",
        "    reflectance=\".2\"/>\n",
        "  </asset>\n",
        "\n",
        "  <worldbody>\n",
        "    <light pos=\"0 0 1\" mode=\"trackcom\"/>\n",
        "    <geom name=\"ground\" type=\"plane\" pos=\"0 0 -.5\" size=\"2 2 .1\" material=\"grid\" solimp=\".99 .99 .01\" solref=\".001 1\"/>\n",
        "    <body name=\"box_and_sphere\" pos=\"0 0 0\">\n",
        "      <freejoint/>\n",
        "      <geom name=\"body\" type=\"ellipsoid\" size=\".2 .1 .1\" rgba=\"0 1 0.5 1\"/>\n",
        "      <geom name=\"shell\" type=\"ellipsoid\" pos=\"-0.06 .0 .02\" size=\".18 .14 .14\" rgba=\"0.5 1 0 1\"/>\n",
        "      <geom name=\"flip1\" type=\"ellipsoid\" pos=\"0.04 -0.07 -0.05\" euler=\"45 0 0\" size=\".05 .15 .05\" rgba=\"0 1 0.5 1\"/>\n",
        "      <geom name=\"flip2\" type=\"ellipsoid\" pos=\"0.04 0.07 -0.05\" euler=\"-45 0 0\" size=\".05 .15 .05\" rgba=\"0 1 0.5 1\"/>\n",
        "      <geom name=\"flip3\" type=\"ellipsoid\" pos=\"-0.17 -0.05 -0.05\" euler=\"45 0 0\" size=\".05 .15 .05\" rgba=\"0 1 0.5 1\"/>\n",
        "      <geom name=\"flip4\" type=\"ellipsoid\" pos=\"-0.17 0.05 -0.05\" euler=\"-45 0 0\" size=\".05 .15 .05\" rgba=\"0 1 0.5 1\"/>\n",
        "\n",
        "\n",
        "\n",
        "      <camera name=\"fixed\" pos=\"0 -.6 .3\" xyaxes=\"1 0 0 0 1 2\"/>\n",
        "      <camera name=\"track\" pos=\"0 -.6 .3\" xyaxes=\"1 0 0 0 1 2\" mode=\"track\"/>\n",
        "    </body>\n",
        "  </worldbody>\n",
        "</mujoco>\n",
        "\"\"\"\n",
        "model = mujoco.MjModel.from_xml_string(free_body_MJCF)\n",
        "renderer = mujoco.Renderer(model, 400, 600)\n",
        "data = mujoco.MjData(model)\n",
        "mujoco.mj_forward(model, data)\n",
        "\n",
        "duration = 3.8  # (seconds)\n",
        "framerate = 60  # (Hz)\n",
        "\n",
        "frames = []\n",
        "mujoco.mj_resetData(model, data)\n",
        "while data.time < duration:\n",
        "  mujoco.mj_step(model, data)\n",
        "  if len(frames) < data.time * framerate:\n",
        "    renderer.update_scene(data)\n",
        "    pixels = renderer.render()\n",
        "    frames.append(pixels)\n",
        "\n",
        "# Simulate and display video.\n",
        "media.show_video(frames, fps=framerate)"
      ],
      "metadata": {
        "id": "FzvsZk2yQT_b"
      },
      "execution_count": null,
      "outputs": []
    },
    {
      "cell_type": "markdown",
      "source": [
        "Okay, yes, I cheated that wasn't the same simulation, but it sure was pretty.\n",
        "\n",
        "If you're interested (because I know you are), here it is with a random throw."
      ],
      "metadata": {
        "id": "11yWq3KCUw2-"
      }
    },
    {
      "cell_type": "code",
      "execution_count": null,
      "metadata": {
        "id": "Rr4OxgHpU3Z6"
      },
      "outputs": [],
      "source": [
        "n_frames = 500\n",
        "height = 240\n",
        "width = 320\n",
        "frames = []\n",
        "renderer = mujoco.Renderer(model, height, width)\n",
        "\n",
        "# visualize contact frames and forces, make body transparent\n",
        "options = mujoco.MjvOption()\n",
        "mujoco.mjv_defaultOption(options)\n",
        "options.flags[mujoco.mjtVisFlag.mjVIS_CONTACTPOINT] = True\n",
        "options.flags[mujoco.mjtVisFlag.mjVIS_CONTACTFORCE] = True\n",
        "options.flags[mujoco.mjtVisFlag.mjVIS_TRANSPARENT] = True\n",
        "\n",
        "# tweak scales of contact visualization elements\n",
        "model.vis.scale.contactwidth = 0.1\n",
        "model.vis.scale.contactheight = 0.03\n",
        "model.vis.scale.forcewidth = 0.05\n",
        "model.vis.map.force = 0.3\n",
        "\n",
        "# random initial rotational velocity:\n",
        "mujoco.mj_resetData(model, data)\n",
        "data.qvel[3:6] = 5*np.random.randn(3)\n",
        "\n",
        "# simulate and render\n",
        "for i in range(n_frames):\n",
        "  while data.time < i/120.0: #1/4x real time\n",
        "    mujoco.mj_step(model, data)\n",
        "  renderer.update_scene(data, \"track\", options)\n",
        "  frame = renderer.render()\n",
        "  frames.append(frame)\n",
        "\n",
        "# show video\n",
        "media.show_video(frames, fps=30)"
      ]
    },
    {
      "cell_type": "markdown",
      "source": [
        "# Let's get moving\n",
        "\n",
        "We need to get this thing to move now.\n",
        "\n",
        "To do this we'll try start with a differential drive, following the pattern of Pranav Bhounsule's tutorial here: https://www.youtube.com/watch?v=I5QvXfo8L4o\n",
        "\n",
        "We connect wheels to the body with joints, and then attach an actuator to be the little motors."
      ],
      "metadata": {
        "id": "nsxIN1zHB0Hl"
      }
    },
    {
      "cell_type": "code",
      "source": [
        "car = \"\"\"\n",
        "<mujoco>\n",
        "\t<option gravity=\"0 0 -9.81\" />\n",
        "\t<worldbody>\n",
        "        <light diffuse=\".5 .5 .5\" pos=\"0 0 3\" dir=\"0 0 -1\"/>\n",
        "\t\t<geom type=\"plane\" size=\"5 5 0.1\" rgba=\".9 .9 .9 1\"/>\n",
        "\t\t<body name = \"chassis\" pos=\"0 0 0.2\" euler='0 90 0'>\n",
        "\t\t\t<joint type=\"free\"/>\n",
        "\t\t\t<geom type=\"box\" size=\".05 .2 .5\" rgba=\".9 .9 0 1\"/>\n",
        "\t\t\t<site name=\"marker\" pos = \"0 0 0.1\" size=\"0.1\" />\n",
        "\t\t\t<body name=\"left-tire\" pos=\"0 0.3 -0.5\" euler='90 0 0'>\n",
        "\t\t\t\t<joint name = \"left-wheel\" type=\"hinge\" axis=\"0 0 -1\"/>\n",
        "\t\t\t\t<geom type=\"cylinder\" size=\".2 0.05\" rgba=\"0 .9 0 1\"/>\n",
        "\t\t\t</body>\n",
        "\t\t\t<body name=\"right-tire\" pos=\"0 -0.3 -0.5\" euler='90 0 0'>\n",
        "\t\t\t\t<joint name = \"right-wheel\" type=\"hinge\" axis=\"0 0 -1\"/>\n",
        "\t\t\t\t<geom type=\"cylinder\" size=\".2 0.05\" rgba=\"0 .9 0 1\"/>\n",
        "\t\t\t</body>\n",
        "\t\t</body>\n",
        "\n",
        "    <camera name=\"fixed\" pos=\"0 -10 4\" xyaxes=\"1 0 0 0 1 2\"/>\n",
        "\n",
        "\t</worldbody>\n",
        "\t<sensor>\n",
        "\t\t<framepos objtype=\"site\" objname=\"marker\"/>\n",
        "\t</sensor>\n",
        "\t<actuator>\n",
        "\t\t<velocity name=\"left-velocity-servo\" joint=\"left-wheel\" kv=\"100\"/>\n",
        "\t\t<velocity name=\"right-velocity-servo\" joint=\"right-wheel\" kv=\"100\"/>\n",
        "\t</actuator>\n",
        "</mujoco>\n",
        "\n",
        "\"\"\"\n",
        "\n",
        "model = mujoco.MjModel.from_xml_string(car)"
      ],
      "metadata": {
        "id": "3TrLAUpLB9js"
      },
      "execution_count": null,
      "outputs": []
    },
    {
      "cell_type": "markdown",
      "source": [
        "That's the simple diff drive car model"
      ],
      "metadata": {
        "id": "aZOqj5M-B1jI"
      }
    },
    {
      "cell_type": "code",
      "source": [
        "renderer = mujoco.Renderer(model, 400, 600)\n",
        "data = mujoco.MjData(model)\n",
        "mujoco.mj_forward(model, data)\n",
        "\n",
        "framerate = 60  # (Hz)\n",
        "\n",
        "frames = []\n",
        "mujoco.mj_resetData(model, data)\n",
        "\n",
        "renderer.update_scene(data, camera=\"fixed\")\n",
        "\n",
        "def step_to_next_frame(i, start_time_offset):\n",
        "  loops=0\n",
        "  while (data.time - start_time_offset) < i/framerate and loops < 100:\n",
        "    #print(data.time)\n",
        "    loops = loops + 1\n",
        "    #print(loops)\n",
        "    mujoco.mj_step(model, data)\n",
        "\n",
        "    #times.append(data.time)\n",
        "    #sensordata.append(data.sensor('accelerometer').data.copy())\n",
        "\n",
        "# simulate and render\n",
        "def render_frames(n):\n",
        "  start_time = data.time * framerate\n",
        "  for i in range(n):\n",
        "    step_to_next_frame(i, start_time)\n",
        "    renderer.update_scene(data, camera=\"fixed\")\n",
        "    frame = renderer.render()\n",
        "    frames.append(frame)\n",
        "\n",
        "data.ctrl[0] = 10;\n",
        "data.ctrl[1] = 10;\n",
        "\n",
        "render_frames(60)\n",
        "\n",
        "data.ctrl[0] = 6;\n",
        "data.ctrl[1] = -6;\n",
        "\n",
        "render_frames(60)\n",
        "\n",
        "data.ctrl[0] = 1;\n",
        "data.ctrl[1] = 1;\n",
        "\n",
        "render_frames(60)\n",
        "\n",
        "data.ctrl[0] = 6;\n",
        "data.ctrl[1] = -6;\n",
        "\n",
        "render_frames(30)\n",
        "\n",
        "data.ctrl[0] = 1;\n",
        "data.ctrl[1] = 1;\n",
        "\n",
        "render_frames(60)\n",
        "\n",
        "data.ctrl[0] = 6;\n",
        "data.ctrl[1] = -6;\n",
        "\n",
        "render_frames(30)\n",
        "\n",
        "# display video.\n",
        "media.show_video(frames, fps=framerate)\n"
      ],
      "metadata": {
        "id": "PoLcfjjNaETO"
      },
      "execution_count": null,
      "outputs": []
    },
    {
      "cell_type": "markdown",
      "source": [
        "# Turtle gets going\n",
        "\n",
        "Now we need to figure out a way to mash up these two models (without it breaking, which it has done, a lot)."
      ],
      "metadata": {
        "id": "vGmt7LctFuoW"
      }
    },
    {
      "cell_type": "code",
      "source": [
        "car = \"\"\"\n",
        "<mujoco>\n",
        "\t<option gravity=\"0 0 -9.81\" />\n",
        "\t<worldbody>\n",
        "    <light diffuse=\".5 .5 .5\" pos=\"0 0 3\" dir=\"0 0 -1\"/>\n",
        "\t\t<geom type=\"plane\" size=\"5 5 0.1\" rgba=\".9 .9 .9 1\"/>\n",
        "\t\t<body name = \"chassis\" pos=\"0 0 1.2\" euler='0 90 0'>\n",
        "\t\t\t<joint type=\"free\"/>\n",
        " \t\t\t<geom type=\"box\" size=\".2 0.2 0.5\" rgba=\".9 .9 0 1\"/>\n",
        "\t\t\t<site name=\"marker\" pos = \"0 0 0.1\" size=\"0.1\" />\n",
        "\t\t\t<body name=\"left-tire\" pos=\"0 0.5 -0.5\" euler='90 0 0'>\n",
        "\t\t\t\t<joint name = \"left-wheel\" type=\"hinge\" axis=\"0 0 -1\"/>\n",
        "\t\t\t\t<geom type=\"cylinder\" size=\".2 0.05\" rgba=\"0 .9 0 1\"/>\n",
        "\t\t\t</body>\n",
        "\t\t\t<body name=\"right-tire\" pos=\"0 -0.5 -0.5\" euler='90 0 0'>\n",
        "\t\t\t\t<joint name = \"right-wheel\" type=\"hinge\" axis=\"0 0 -1\"/>\n",
        "\t\t\t\t<geom type=\"cylinder\" size=\".2 0.05\" rgba=\"0 .9 0 1\"/>\n",
        "\t\t\t</body>\n",
        "\t\t</body>\n",
        "\n",
        "    <camera name=\"fixed\" pos=\"0 -10 4\" xyaxes=\"1 0 0 0 1 2\"/>\n",
        "\n",
        "\t</worldbody>\n",
        "\t<sensor>\n",
        "\t\t<framepos objtype=\"site\" objname=\"marker\"/>\n",
        "\t</sensor>\n",
        "\t<actuator>\n",
        "\t\t<velocity name=\"left-velocity-servo\" joint=\"left-wheel\" kv=\"100\"/>\n",
        "\t\t<velocity name=\"right-velocity-servo\" joint=\"right-wheel\" kv=\"100\"/>\n",
        "\t</actuator>\n",
        "</mujoco>\n",
        "\n",
        "\"\"\"\n",
        "\n",
        "turtle = \"\"\"\n",
        "<mujoco>\n",
        "  <option gravity=\"0 0 -9.81\" />\n",
        "  <asset>\n",
        "    <texture name=\"grid\" type=\"2d\" builtin=\"checker\" rgb1=\".1 .2 .3\"\n",
        "    rgb2=\".2 .3 .4\" width=\"300\" height=\"300\" mark=\"edge\" markrgb=\".2 .3 .4\"/>\n",
        "    <material name=\"grid\" texture=\"grid\" texrepeat=\"2 2\" texuniform=\"true\"\n",
        "    reflectance=\".2\"/>\n",
        "  </asset>\n",
        "\n",
        "  <worldbody>\n",
        "\n",
        "    <light diffuse=\".5 .5 .5\" pos=\"0 0 3\" dir=\"0 0 -1\"/>\n",
        "    <geom name=\"ground\" type=\"plane\" pos=\"0 0 -.5\" size=\"100 100 .1\" material=\"grid\" solimp=\".99 .99 .01\" solref=\".001 1\"/>\n",
        "    <body name=\"turtle\" pos=\"0 0 0\">\n",
        "      <freejoint/>\n",
        "      <geom name=\"body\" type=\"ellipsoid\" size=\".4 .2 .2\" rgba=\"0 1 0.5 1\"/>\n",
        "      <geom name=\"shell\" type=\"ellipsoid\" pos=\"-0.12 .0 .04\" size=\".36 .28 .28\" rgba=\"0.5 1 0 1\"/>\n",
        "      <body name=\"left-tire\" pos=\"0 0.5 -.15\"  euler='90 0 0'>\n",
        "\t\t\t\t<joint name = \"left-wheel\" type=\"hinge\" axis=\"0 0 -1\"/>\n",
        "\t\t\t\t<geom type=\"cylinder\" size=\".2 0.05\" rgba=\".4 .9 0 0.3\"/>\n",
        "\t\t\t</body>\n",
        "      <body name=\"right-tire\" pos=\"0 -0.5 -.15\"  euler='90 0 0'>\n",
        "\t\t\t\t<joint name = \"right-wheel\" type=\"hinge\" axis=\"0 0 -1\"/>\n",
        "\t\t\t\t<geom type=\"cylinder\" size=\".2 0.05\" rgba=\".4 .9 0 0.3\"/>\n",
        "\t\t\t</body>\n",
        "      <body name=\"right-flipper\" pos=\"0.08 -.14 -0.1\" euler=\"45 0 0\" >\n",
        "\t\t\t\t<joint name = \"right-axis\" type=\"hinge\" axis=\"0 1 0.2\"/>\n",
        "        <geom name=\"flip1\" type=\"ellipsoid\" size=\".1 .3 .1\" rgba=\"0 1 0.5 1\"/>\n",
        "      </body>\n",
        "      <geom name=\"flip2\" type=\"ellipsoid\" pos=\"0.08 0.14 -0.1\" euler=\"-45 0 0\" size=\".1 .3 .1\" rgba=\"0 1 0.5 1\"/>\n",
        "      <geom name=\"flip3\" type=\"ellipsoid\" pos=\"-0.34 -0.14 -0.1\" euler=\"45 0 0\" size=\".1 .3 .1\" rgba=\"0 1 0.5 1\"/>\n",
        "      <geom name=\"flip4\" type=\"ellipsoid\" pos=\"-0.34 0.14 -0.1\" euler=\"-45 0 0\" size=\".1 .3 .1\" rgba=\"0 1 0.5 1\"/>\n",
        "\n",
        "      <camera name=\"fixed\" pos=\"0 -4 2\" xyaxes=\"1 0 0 0 1 2\"/>\n",
        "      <camera name=\"track\" pos=\"0 -.6 .3\" xyaxes=\"1 0 0 0 1 2\" mode=\"track\"/>\n",
        "\n",
        "    </body>\n",
        "\n",
        "\n",
        "  </worldbody>\n",
        "  <actuator>\n",
        "\t\t<velocity name=\"left-velocity-servo\" joint=\"left-wheel\" kv=\"100\"/>\n",
        "\t\t<velocity name=\"right-velocity-servo\" joint=\"right-wheel\" kv=\"100\"/>\n",
        "\t</actuator>\n",
        "</mujoco>\n",
        "\"\"\"\n",
        "\n",
        "model = mujoco.MjModel.from_xml_string(turtle)\n"
      ],
      "metadata": {
        "id": "JFLjVUoZF-_q"
      },
      "execution_count": null,
      "outputs": []
    },
    {
      "cell_type": "code",
      "source": [
        "renderer = mujoco.Renderer(model, 400, 600)\n",
        "data = mujoco.MjData(model)\n",
        "mujoco.mj_forward(model, data)\n",
        "\n",
        "framerate = 60  # (Hz)\n",
        "\n",
        "frames = []\n",
        "mujoco.mj_resetData(model, data)\n",
        "\n",
        "scene_option = mujoco.MjvOption()\n",
        "scene_option.flags[mujoco.mjtVisFlag.mjVIS_JOINT] = True\n",
        "\n",
        "renderer.update_scene(data, camera=\"fixed\")\n",
        "\n",
        "def step_to_next_frame(i, start_time_offset):\n",
        "  loops=0\n",
        "  while (data.time - start_time_offset) < i/framerate and loops < 100:\n",
        "    #print(data.time)\n",
        "    loops = loops + 1\n",
        "    #print(loops)\n",
        "    mujoco.mj_step(model, data)\n",
        "\n",
        "    #times.append(data.time)\n",
        "    #sensordata.append(data.sensor('accelerometer').data.copy())\n",
        "\n",
        "# simulate and render\n",
        "def render_frames(n):\n",
        "  start_time = data.time * framerate\n",
        "  for i in range(n):\n",
        "    step_to_next_frame(i, start_time)\n",
        "    renderer.update_scene(data, scene_option=scene_option, camera=\"fixed\")\n",
        "    frame = renderer.render()\n",
        "    frames.append(frame)\n",
        "\n",
        "for i in np.random.rand(15,2):\n",
        "  data.ctrl[0] = 3*i[0]+1;\n",
        "  data.ctrl[1] = 2*i[1]+1;\n",
        "  render_frames(60)\n",
        "\n",
        "# display video.\n",
        "media.show_video(frames, fps=framerate)"
      ],
      "metadata": {
        "id": "6a4x_3PfIRkv"
      },
      "execution_count": null,
      "outputs": []
    },
    {
      "cell_type": "markdown",
      "source": [
        "... and we have a free roaming turtle!\n",
        "\n",
        "# 🥳 🐢"
      ],
      "metadata": {
        "id": "ZDDRDh4fY8OZ"
      }
    },
    {
      "cell_type": "markdown",
      "source": [
        "# What's next?\n",
        "\n",
        "*  implement `turtle.forward(cells)` measuring distance to go a defined distance forward.\n",
        "*  implement `turtle.left(degrees)` and `turtle.right(degrees)` measuring the change in angle to decide when to stop rotating\n",
        "* create a module and pip package to make it easy to `pip install` and `import` the `turtle-sim` module and have it behave similarly to `turtle`."
      ],
      "metadata": {
        "id": "wr-FElfraAY9"
      }
    }
  ],
  "metadata": {
    "accelerator": "GPU",
    "colab": {
      "private_outputs": true,
      "provenance": [],
      "gpuClass": "premium",
      "gpuType": "V100",
      "include_colab_link": true
    },
    "kernelspec": {
      "display_name": "Python 3",
      "name": "python3"
    }
  },
  "nbformat": 4,
  "nbformat_minor": 0
}